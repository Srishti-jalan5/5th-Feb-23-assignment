{
 "cells": [
  {
   "cell_type": "code",
   "execution_count": 1,
   "id": "b212f3a9-f3b9-401e-9ff8-0be6e173de03",
   "metadata": {},
   "outputs": [],
   "source": [
    "#Q1 \n",
    "#A class is blue print on an object that is wjich describes how object will work\n",
    "#An object is an instance of class\n",
    "\n",
    "class practice:\n",
    "    \n",
    "    def practice_Q1(self):\n",
    "        print(\"We should always practice our questions\")"
   ]
  },
  {
   "cell_type": "code",
   "execution_count": 2,
   "id": "f8e673e2-b7cb-429a-87f5-79f678cb0511",
   "metadata": {},
   "outputs": [
    {
     "name": "stdout",
     "output_type": "stream",
     "text": [
      "<class '__main__.practice'>\n"
     ]
    }
   ],
   "source": [
    "#object\n",
    "\n",
    "srishti = practice()\n",
    "print(type(srishti))"
   ]
  },
  {
   "cell_type": "code",
   "execution_count": 3,
   "id": "9f0373c3-c6bf-478b-94c0-910f9a00a551",
   "metadata": {},
   "outputs": [],
   "source": [
    "#Q2\n",
    "# 4 pillars of oops are Inheritance, Polymorphism, Encapsulation and Abstraction\n"
   ]
  },
  {
   "cell_type": "code",
   "execution_count": 4,
   "id": "b96480ab-f094-44a5-9d98-1eae0403fa75",
   "metadata": {},
   "outputs": [],
   "source": [
    "#Q3\n",
    "#__init__() function is used to inizialise the variables of a function. It is a inbuilt function.\n",
    "\n",
    "class Question3:\n",
    "    \n",
    "    def __init__(self, a, b):\n",
    "        self.a=a\n",
    "        self.b=b"
   ]
  },
  {
   "cell_type": "code",
   "execution_count": 7,
   "id": "be714f16-9242-47b7-b462-852869d2da4f",
   "metadata": {},
   "outputs": [
    {
     "data": {
      "text/plain": [
       "20"
      ]
     },
     "execution_count": 7,
     "metadata": {},
     "output_type": "execute_result"
    }
   ],
   "source": [
    "get_init = Question3(10, 20)\n",
    "get_init.a\n",
    "get_init.b"
   ]
  },
  {
   "cell_type": "code",
   "execution_count": 8,
   "id": "6e566d32-e3d6-4811-b4bd-76ec014f158b",
   "metadata": {},
   "outputs": [],
   "source": [
    "#Q4\n",
    "# self is used to bind a method and variable with class. self is not a reserved keyword."
   ]
  },
  {
   "cell_type": "code",
   "execution_count": null,
   "id": "d563e6ab-41ea-4054-8400-f125b7e469ef",
   "metadata": {},
   "outputs": [],
   "source": [
    "#Q5\n",
    "#Inheritance allows us to define a class that inherits all the methods and properties from another class\n",
    "\n",
    "#multilevel inheritance\n",
    "class Grandfather:\n",
    " \n",
    "    def __init__(self, grandfathername):\n",
    "        self.grandfathername = grandfathername\n",
    " \n",
    " \n",
    "class Father(Grandfather):\n",
    "    def __init__(self, fathername, grandfathername):\n",
    "        self.fathername = fathername\n",
    " \n",
    "        Grandfather.__init__(self, grandfathername)\n",
    "  \n",
    " \n",
    "class Son(Father):\n",
    "    def __init__(self, sonname, fathername, grandfathername):\n",
    "        self.sonname = sonname\n",
    " \n",
    "        Father.__init__(self, fathername, grandfathername)\n",
    " \n",
    "    def print_name(self):\n",
    "        print('Grandfather name :', self.grandfathername)\n",
    "        print(\"Father name :\", self.fathername)\n",
    "        print(\"Son name :\", self.sonname)\n",
    " \n",
    "\n",
    "s1 = Son('Prince', 'Rampal', 'Lal mani')\n",
    "print(s1.grandfathername)\n",
    "s1.print_name()\n",
    "\n",
    "#multiple inheritance\n",
    "class Mother:\n",
    "    mothername = \"\"\n",
    " \n",
    "    def mother(self):\n",
    "        print(self.mothername)\n",
    "\n",
    " \n",
    "class Father:\n",
    "    fathername = \"\"\n",
    " \n",
    "    def father(self):\n",
    "        print(self.fathername)\n",
    " \n",
    " \n",
    "class Son(Mother, Father):\n",
    "    def parents(self):\n",
    "        print(\"Father :\", self.fathername)\n",
    "        print(\"Mother :\", self.mothername)\n",
    " \n",
    "s1 = Son()\n",
    "s1.fathername = \"RAM\"\n",
    "s1.mothername = \"SITA\"\n",
    "s1.parents()\n",
    "\n",
    "#hierarichal inheritance\n",
    "class Grandfather:\n",
    " \n",
    "    def __init__(self, grandfathername):\n",
    "        self.grandfathername = grandfathername\n",
    " \n",
    "class Father(Grandfather):\n",
    "    def __init__(self, fathername, grandfathername):\n",
    "        self.fathername = fathername\n",
    "\n",
    "        Grandfather.__init__(self, grandfathername)\n",
    " \n",
    "class Son(Father):\n",
    "    def __init__(self, sonname, fathername, grandfathername):\n",
    "        self.sonname = sonname\n",
    " \n",
    "        Father.__init__(self, fathername, grandfathername)\n",
    " \n",
    "    def print_name(self):\n",
    "        print('Grandfather name :', self.grandfathername)\n",
    "        print(\"Father name :\", self.fathername)\n",
    "        print(\"Son name :\", self.sonname)\n",
    " \n",
    "s1 = Son('Prince', 'Rampal', 'Lal mani')\n",
    "print(s1.grandfathername)\n",
    "s1.print_name()\n",
    "\n",
    "#hybrid inheritance\n",
    "class Parent:\n",
    "    def func1(self):\n",
    "        print(\"This function is in parent class.\")\n",
    " \n",
    "class Child1(Parent):\n",
    "    def func2(self):\n",
    "        print(\"This function is in child 1.\")\n",
    " \n",
    "class Child2(Parent):\n",
    "    def func3(self):\n",
    "        print(\"This function is in child 2.\")\n",
    " \n",
    "\n",
    "object1 = Child1()\n",
    "object2 = Child2()\n",
    "object1.func1()\n",
    "object1.func2()\n",
    "object2.func1()\n",
    "object2.func3()"
   ]
  }
 ],
 "metadata": {
  "kernelspec": {
   "display_name": "Python 3 (ipykernel)",
   "language": "python",
   "name": "python3"
  },
  "language_info": {
   "codemirror_mode": {
    "name": "ipython",
    "version": 3
   },
   "file_extension": ".py",
   "mimetype": "text/x-python",
   "name": "python",
   "nbconvert_exporter": "python",
   "pygments_lexer": "ipython3",
   "version": "3.10.8"
  }
 },
 "nbformat": 4,
 "nbformat_minor": 5
}
